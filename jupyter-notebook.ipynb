{
 "cells": [
  {
   "cell_type": "markdown",
   "id": "81c4fe32",
   "metadata": {},
   "source": [
    "Download of the OpenAIRE Graph Dataset:\n",
    "\n",
    "1. Download the files `dataset_*.tar` from the version of your choice [here](https://doi.org/10.5281/zenodo.3516917).\n",
    "2. Unpack in the following steps:\n",
    "    ```\n",
    "    unar dataset_1.tar\n",
    "    cd dataset\n",
    "    cat part-00*.json.gz > dataset.json.gz\n",
    "    unar dataset.json.gz\n",
    "    ```\n",
    "\n",
    "The code blocks are executed in descending order."
   ]
  },
  {
   "cell_type": "markdown",
   "id": "47a598ea",
   "metadata": {},
   "source": [
    "\n"
   ]
  },
  {
   "cell_type": "markdown",
   "id": "37015a5e",
   "metadata": {},
   "source": [
    "### 0. Preparation"
   ]
  },
  {
   "cell_type": "code",
   "execution_count": null,
   "id": "909a45f7",
   "metadata": {},
   "outputs": [],
   "source": [
    "import json\n",
    "import pickle\n",
    "import random\n",
    "from pathlib import Path\n",
    "\n",
    "from helper_openaire_graph_dataset import get_identifier, sort_by_provider\n",
    "from threaded_metadata_harvester import metadata_harvester\n",
    "from helper_convert_tinydb_to_sqlite3 import convert_tinydb_to_sqlite3\n",
    "from helper_quantile import calculate_stats\n",
    "from helper_geopackage import count_bboxes, create_geopackage\n",
    "from helper_convert_sqlite3_to_csv import create_csv"
   ]
  },
  {
   "cell_type": "markdown",
   "id": "1dbb3622",
   "metadata": {},
   "source": [
    "Definitions\n",
    "- `openaire_graph_datasets` contains the OpenAIRE Graph datasets from which the identifiers are extracted.\n",
    "- `working_dir` is the path in which statistics files are saved."
   ]
  },
  {
   "cell_type": "code",
   "execution_count": null,
   "id": "65b82616",
   "metadata": {},
   "outputs": [],
   "source": [
    "# path to OpenAIRE Graph Dataset and total lines\n",
    "openaire_graph_datasets = {\n",
    "    #\"/run/media/lars/522aa7ef-7821-427b-9ded-fd117f17f316/bachelor-thesis/OpenAIRE Graph Dataset 1.0/dataset.json\": 13754884,\n",
    "    #\"/run/media/lars/522aa7ef-7821-427b-9ded-fd117f17f316/bachelor-thesis/OpenAIRE Graph Dataset 2.0/dataset.json\": 13754884,\n",
    "    #\"/run/media/lars/522aa7ef-7821-427b-9ded-fd117f17f316/bachelor-thesis/OpenAIRE Graph Dataset 3.0/dataset.json\": 14228362,\n",
    "    #\"/run/media/lars/522aa7ef-7821-427b-9ded-fd117f17f316/bachelor-thesis/OpenAIRE Graph Dataset 4.0/dataset.json\": 15272516,\n",
    "    #\"/run/media/lars/522aa7ef-7821-427b-9ded-fd117f17f316/bachelor-thesis/OpenAIRE Graph Dataset 4.1/dataset.json\": 15606225,\n",
    "    #\"/run/media/lars/522aa7ef-7821-427b-9ded-fd117f17f316/bachelor-thesis/OpenAIRE Graph Dataset 5.0.0/dataset.json\": 18958506,\n",
    "    #\"/run/media/lars/522aa7ef-7821-427b-9ded-fd117f17f316/bachelor-thesis/OpenAIRE Graph Dataset 6.0.0/dataset.json\": 58576399,\n",
    "    #\"/run/media/lars/522aa7ef-7821-427b-9ded-fd117f17f316/bachelor-thesis/OpenAIRE Graph Dataset 7.0.0/dataset.json\": 59998862,\n",
    "    #\"/run/media/lars/522aa7ef-7821-427b-9ded-fd117f17f316/bachelor-thesis/OpenAIRE Graph Dataset 8.0.0/dataset.json\": 61346274,\n",
    "    \"/run/media/lars/522aa7ef-7821-427b-9ded-fd117f17f316/bachelor-thesis/OpenAIRE Graph Dataset 9.0.1/dataset.json\": 73443566,\n",
    "}\n",
    "\n",
    "content_provider = [\"dryad\", \"figshare\", \"zenodo\"]\n",
    "\n",
    "working_dir = Path(\"statistics\")"
   ]
  },
  {
   "cell_type": "markdown",
   "id": "9cdff496",
   "metadata": {},
   "source": [
    "### 1. Sort OpenAIRE Graph Dataset by content provider"
   ]
  },
  {
   "cell_type": "markdown",
   "id": "6579543a",
   "metadata": {},
   "source": [
    "**Attention:** The output file of the statistics is overwritten in each run. If a new run is carried out with fewer input files, the statistics for these files are deleted."
   ]
  },
  {
   "cell_type": "code",
   "execution_count": null,
   "id": "da9692a7",
   "metadata": {},
   "outputs": [],
   "source": [
    "results1 = []\n",
    "statistics1 = {}  # dict contains all providers for the files and which providers have been assigned to the searched content providers\n",
    "statistics1_path = working_dir.joinpath(\"1_statistics.json\")\n",
    "working_dir.mkdir(parents=True, exist_ok=True)\n",
    "\n",
    "for dataset_path, number_of_lines in openaire_graph_datasets.items():\n",
    "    output_input_sorted, statistics = sort_by_provider(\n",
    "        dataset_path, number_of_lines, content_provider,\n",
    "    )\n",
    "    if statistics:\n",
    "        results1.append([output_input_sorted, statistics])\n",
    "        statistics1[dataset_path] = statistics\n",
    "    else:\n",
    "        with open(statistics1_path, \"r\") as file:\n",
    "            statistics1_loaded = (json.load(file))[dataset_path]\n",
    "            results1.append([output_input_sorted, statistics1_loaded])\n",
    "            statistics1[dataset_path] = statistics1_loaded\n",
    "\n",
    "    with open(statistics1_path, \"w\") as file:\n",
    "        json.dump(statistics1, file, indent=4)\n",
    "        print(\"Statistics saved in\", statistics1_path.absolute())"
   ]
  },
  {
   "cell_type": "markdown",
   "id": "31c83468",
   "metadata": {},
   "source": [
    "### 2. Extract identifier from sorted OpenAIRE Graph Dataset for content provider"
   ]
  },
  {
   "cell_type": "markdown",
   "id": "54abbf51",
   "metadata": {},
   "source": [
    "From now on, only the latest version of the OpenAIRE Graph Dataset will be used (last entry from `results1`)."
   ]
  },
  {
   "cell_type": "code",
   "execution_count": null,
   "id": "67235b73",
   "metadata": {},
   "outputs": [],
   "source": [
    "results2 = []\n",
    "\n",
    "for index, name in enumerate(content_provider):\n",
    "    extract_dataset_path = results1[-1][0][index]\n",
    "    extract_identifier_path = extract_dataset_path + \"_identifiers.pickle\"\n",
    "\n",
    "    if not Path(extract_identifier_path).is_file():\n",
    "        identifiers = get_identifier(name, extract_dataset_path)\n",
    "        results2.append([extract_identifier_path, identifiers])\n",
    "\n",
    "        with open(extract_identifier_path, \"wb\") as f:\n",
    "            pickle.dump(identifiers, f)\n",
    "    else:\n",
    "        print(f\"Output file {extract_identifier_path} already exist.\")\n",
    "        with open(extract_identifier_path, \"rb\") as f:\n",
    "            results2.append([extract_identifier_path, pickle.load(f)])"
   ]
  },
  {
   "cell_type": "markdown",
   "id": "d048936d",
   "metadata": {},
   "source": [
    "### 3. Shuffle identifier"
   ]
  },
  {
   "cell_type": "code",
   "execution_count": null,
   "id": "237c0e68",
   "metadata": {},
   "outputs": [],
   "source": [
    "for extract_identifier_path, identifiers in results2:\n",
    "    extract_identifier_shuffle_path = extract_identifier_path + \"_shuffled.pickle\"\n",
    "\n",
    "    if not Path(extract_identifier_shuffle_path).is_file():\n",
    "        random.seed(74292449775793935952472534943397)\n",
    "        random.shuffle(identifiers)\n",
    "\n",
    "        with open(extract_identifier_shuffle_path, \"wb\") as output_file:\n",
    "            pickle.dump(identifiers, output_file)\n",
    "\n",
    "        print(\"Shuffled identifier saved in\", extract_identifier_shuffle_path)\n",
    "\n",
    "    else:\n",
    "        print(f\"Output file {extract_identifier_shuffle_path} already exist.\")"
   ]
  },
  {
   "cell_type": "markdown",
   "id": "ca815382",
   "metadata": {},
   "source": [
    "### 4. Metadata harvesting"
   ]
  },
  {
   "cell_type": "markdown",
   "id": "1c96ffaa",
   "metadata": {},
   "source": [
    "Threshold value must be set in `threaded_metadata_harvester.py` in line 79.\n",
    "\n",
    "API keys can be provided."
   ]
  },
  {
   "cell_type": "code",
   "execution_count": null,
   "id": "3524c7c6",
   "metadata": {},
   "outputs": [],
   "source": [
    "files = {\n",
    "    \"dryad\": \"/run/media/lars/522aa7ef-7821-427b-9ded-fd117f17f316/bachelor-thesis/OpenAIRE Graph Dataset 9.0.1/dataset.json_auszug_dryad.json_identifiers.pickle_shuffled.pickle\",\n",
    "    \"figshare\": \"/run/media/lars/522aa7ef-7821-427b-9ded-fd117f17f316/bachelor-thesis/OpenAIRE Graph Dataset 9.0.1/dataset.json_auszug_figshare.json_identifiers.pickle_shuffled.pickle\",\n",
    "    \"zenodo\": \"/run/media/lars/522aa7ef-7821-427b-9ded-fd117f17f316/bachelor-thesis/OpenAIRE Graph Dataset 9.0.1/dataset.json_auszug_zenodo.json_identifiers.pickle_shuffled.pickle\",\n",
    "}\n",
    "access_token = {\n",
    "    # \"dryad\": \"\",\n",
    "    # \"figshare\": \"\",\n",
    "    # \"zenodo\": \"\",\n",
    "}\n",
    "checkpoint_path = \"/home/lars/FINAL_checkpoint.pickle\"\n",
    "tinydb_path = \"/home/lars/FINAL_metadata_db.json\""
   ]
  },
  {
   "cell_type": "code",
   "execution_count": null,
   "id": "1b4ff06e",
   "metadata": {},
   "outputs": [],
   "source": [
    "metadata_harvester(files, checkpoint_path, tinydb_path, access_token)"
   ]
  },
  {
   "cell_type": "markdown",
   "id": "30824815",
   "metadata": {},
   "source": [
    "### 5. Convert TinyDB to SQLite3"
   ]
  },
  {
   "cell_type": "code",
   "execution_count": null,
   "id": "1105009d",
   "metadata": {},
   "outputs": [],
   "source": [
    "tinydb_paths = [\n",
    "    tinydb_path,\n",
    "]\n",
    "sqlite_path = str(Path(tinydb_paths[0]).with_suffix(\".sqlite3\"))\n",
    "\n",
    "convert_tinydb_to_sqlite3(tinydb_paths, sqlite_path)"
   ]
  },
  {
   "cell_type": "markdown",
   "id": "aed56ec6",
   "metadata": {},
   "source": [
    "### 6. Calculate statistics"
   ]
  },
  {
   "cell_type": "code",
   "execution_count": null,
   "id": "259a51ae",
   "metadata": {},
   "outputs": [],
   "source": [
    "calculate_stats(sqlite_path)"
   ]
  },
  {
   "cell_type": "markdown",
   "id": "f091e5fa",
   "metadata": {},
   "source": [
    "### 7. Download and Analysis"
   ]
  },
  {
   "cell_type": "markdown",
   "id": "455c4efa",
   "metadata": {},
   "source": [
    "In the following, the program is executed in the shell, as the argument “-u” must be passed in order to deactivate standard output buffering.\n",
    "\n",
    "Hardcoded variables in `threaded_dataset_analysis.py`:\n",
    "- 695: SQLite3 path\n",
    "- 628: Dataset size limit\n",
    "- 399: Threshold time\n",
    "- 50: Temp dir"
   ]
  },
  {
   "cell_type": "code",
   "execution_count": null,
   "id": "11257eb5",
   "metadata": {
    "vscode": {
     "languageId": "shellscript"
    }
   },
   "outputs": [],
   "source": [
    "!python -u \"threaded_dataset_analysis.py\"  # 2>&1 | tee '/home/lars/FINAL_metadata_db.sqlite3.log'"
   ]
  },
  {
   "cell_type": "markdown",
   "id": "a35c864e",
   "metadata": {},
   "source": [
    "### 8. Convert to Geopackage"
   ]
  },
  {
   "cell_type": "markdown",
   "id": "9a719cbb",
   "metadata": {},
   "source": [
    "Creates geopackage file in new subdir `gpkg` of SQLite3."
   ]
  },
  {
   "cell_type": "code",
   "execution_count": null,
   "id": "993efa8c",
   "metadata": {},
   "outputs": [],
   "source": [
    "gpkg_path = create_geopackage(sqlite_path, \"bbox\")\n",
    "# create_geopackage(sqlite_path, \"bbox\", filter=0.02)\n",
    "create_geopackage(sqlite_path, \"center\")"
   ]
  },
  {
   "cell_type": "markdown",
   "id": "8e88629f",
   "metadata": {},
   "source": [
    "### 9. Count BBoxes"
   ]
  },
  {
   "cell_type": "code",
   "execution_count": null,
   "id": "3034a208",
   "metadata": {},
   "outputs": [],
   "source": [
    "geopackage_with_bbox = {\n",
    "    gpkg_path: \"bounding_box\",\n",
    "}\n",
    "geopackage_to_count = {\n",
    "    \"/home/lars/Dokumente/Studium2/Bachelorarbeit_/visualization/grid_30_deg.gpkg\": \"grid_30_deg\",\n",
    "    \"/home/lars/Dokumente/Studium2/Bachelorarbeit_/visualization/grid_15_deg.gpkg\": \"grid_15_deg\",\n",
    "    \"/home/lars/Dokumente/Studium2/Bachelorarbeit_/visualization/grid_10_deg.gpkg\": \"grid_10_deg\",\n",
    "    \"/home/lars/Dokumente/Studium2/Bachelorarbeit_/visualization/natural earth/ne_10m_admin_0_countries.gpkg\": \"ne_10m_admin_0_countries\",\n",
    "}\n",
    "\n",
    "count_bboxes(geopackage_with_bbox, geopackage_to_count)"
   ]
  },
  {
   "cell_type": "markdown",
   "id": "a67cf743",
   "metadata": {},
   "source": [
    "### 10. Convert to CSV"
   ]
  },
  {
   "cell_type": "code",
   "execution_count": null,
   "id": "ecd441ba",
   "metadata": {},
   "outputs": [],
   "source": [
    "create_csv(sqlite_path)"
   ]
  }
 ],
 "metadata": {
  "kernelspec": {
   "display_name": "venv",
   "language": "python",
   "name": "python3"
  },
  "language_info": {
   "codemirror_mode": {
    "name": "ipython",
    "version": 3
   },
   "file_extension": ".py",
   "mimetype": "text/x-python",
   "name": "python",
   "nbconvert_exporter": "python",
   "pygments_lexer": "ipython3",
   "version": "3.13.3"
  }
 },
 "nbformat": 4,
 "nbformat_minor": 5
}
